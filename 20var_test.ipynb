{
 "cells": [
  {
   "cell_type": "code",
   "execution_count": 1,
   "metadata": {},
   "outputs": [],
   "source": [
    "import numpy as np\n",
    "import pandas as pd"
   ]
  },
  {
   "cell_type": "code",
   "execution_count": 42,
   "metadata": {},
   "outputs": [],
   "source": [
    "data = pd.read_csv('data/quarterlyData_updated.csv')\n",
    "data = data.drop('Unnamed: 0', axis = 1)\n",
    "# No need to difference the housing data\n",
    "data = data.rename(columns = {'Unnamed: 0': 'Date'})\n",
    "\n",
    "x_d_all = data[['L0_OILPRICEx', 'L0_EXUSUKx', 'L0_S.P.500', 'L0_TB3MS', 'L0_GDPC1', 'L_0y', 'L0_UNRATE', 'L0_HOUST']]\n",
    "x_d_all.columns = ['oil', 'Ex', 'SPY', 'DGS3', 'GDP', 'inf', 'unrate', 'house_starts']\n",
    "exog_data = data[[e for e in data.columns if e not in ['L0_OILPRICEx', 'L0_EXUSUKx', 'L0_S.P.500', 'L0_TB3MS', 'L0_GDPC1', 'L_0y', 'L0_UNRATE', 'L0_HOUST']]]\n"
   ]
  },
  {
   "cell_type": "code",
   "execution_count": 45,
   "metadata": {},
   "outputs": [],
   "source": [
    "vars = ['L0_PAYEMS', 'L_0y', 'L0_FEDFUNDS', 'L0_NONBORRES', 'L0_TOTRESNS', 'L0_M2REAL', 'L0_PI', 'L0_PCECC96', 'L0_INDPRO', 'L0_TCU', 'L0_UNRATE', 'L0_HOUST', 'L0_PPIACO', 'L0_PCECTPI',\n",
    "        'L0_AHETPIx', 'L0_M1REAL', 'L0_S.P.500', 'L0_GS10', 'L0_EXUSUKx']"
   ]
  },
  {
   "cell_type": "code",
   "execution_count": 46,
   "metadata": {},
   "outputs": [
    {
     "data": {
      "text/plain": [
       "19"
      ]
     },
     "execution_count": 46,
     "metadata": {},
     "output_type": "execute_result"
    }
   ],
   "source": [
    "len(vars)"
   ]
  }
 ],
 "metadata": {
  "kernelspec": {
   "display_name": "Python 3.8.10 ('econdl-6MXPf6IA-py3.8')",
   "language": "python",
   "name": "python3"
  },
  "language_info": {
   "codemirror_mode": {
    "name": "ipython",
    "version": 3
   },
   "file_extension": ".py",
   "mimetype": "text/x-python",
   "name": "python",
   "nbconvert_exporter": "python",
   "pygments_lexer": "ipython3",
   "version": "3.8.10"
  },
  "orig_nbformat": 4,
  "vscode": {
   "interpreter": {
    "hash": "fc48c1473faa31984eb85e467140ef435eca5bb754960603cbfe2bb9dc2bdab4"
   }
  }
 },
 "nbformat": 4,
 "nbformat_minor": 2
}
