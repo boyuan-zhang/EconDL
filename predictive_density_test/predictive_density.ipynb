{
 "cells": [
  {
   "cell_type": "code",
   "execution_count": 6,
   "metadata": {},
   "outputs": [],
   "source": [
    "import numpy as np\n",
    "import matplotlib.pyplot as plt\n",
    "import pandas as pd\n",
    "from scipy.stats import multivariate_normal"
   ]
  },
  {
   "cell_type": "code",
   "execution_count": 7,
   "metadata": {},
   "outputs": [],
   "source": [
    "Y_test = np.load('Y_test.npy')\n",
    "PREDS_TEST_ALL = np.load('PREDS_TEST_ALL.npy')\n",
    "SIGMAS_ALL = np.load('SIGMAS_ALL.npy')"
   ]
  },
  {
   "cell_type": "code",
   "execution_count": 8,
   "metadata": {},
   "outputs": [
    {
     "name": "stdout",
     "output_type": "stream",
     "text": [
      "(20, 3)\n",
      "(12, 20, 60, 3)\n",
      "(12, 247, 3, 3, 60)\n"
     ]
    }
   ],
   "source": [
    "print(Y_test.shape) # n_obs x n_vars\n",
    "print(PREDS_TEST_ALL.shape) # n_models x n_obs x n_bootstraps x n_vars\n",
    "print(SIGMAS_ALL.shape) # n_models x n_obs x n_vars x n_vars x n_bootstraps\n",
    "M_varnns = 3\n",
    "\n",
    "PRED_DENSITY_MARG_ALL = np.zeros((M_varnns, PREDS_TEST_ALL.shape[1], PREDS_TEST_ALL.shape[3]))\n",
    "PRED_DENSITY_JOINT_ALL = np.zeros((M_varnns, PREDS_TEST_ALL.shape[1]))\n",
    "\n",
    "for model in range(M_varnns):\n",
    "  \n",
    "  PREDS_TEST = PREDS_TEST_ALL[model, :,:,:] # n_obs x n_bootstraps x n_vars\n",
    "  SIGMAS = SIGMAS_ALL[model, -20:,:,:,:] # n_obs x n_vars x n_vars x n_bootstraps\n",
    "\n",
    "  # Take the mean across all bootstraps: 20 x 3\n",
    "  preds_test_mean = PREDS_TEST.mean(axis=1)\n",
    "  # Take the mean of all cov mats across all bootstraps. sigmas_mean: 20 x 3 x 3\n",
    "  sigmas_mean = SIGMAS.mean(axis = 3)\n",
    "\n",
    "  # Loop over all time steps\n",
    "  for t in range(PREDS_TEST.shape[0]):\n",
    "    pred_mean = preds_test_mean[t, :]\n",
    "    pred_sigma = sigmas_mean[t, :, :]\n",
    "    y_test = Y_test[t, :]\n",
    "    \n",
    "    ### Calculating joint density\n",
    "    # Construct a multivariate normal with pred_mean and pred_sigma\n",
    "    mv_norm = multivariate_normal(pred_mean, pred_sigma)\n",
    "    # Evaluate the density at y_test\n",
    "    log_density = mv_norm.logpdf(y_test)\n",
    "    PRED_DENSITY_JOINT_ALL[model, t] = log_density\n",
    "    \n",
    "    ### Calculating marginal density\n",
    "    for var in range(PREDS_TEST.shape[2]):\n",
    "      # Construct a univariate normal with pred_mean and pred_sigma\n",
    "      univ_norm = multivariate_normal(pred_mean[var], pred_sigma[var, var])\n",
    "      # Evaluate the density at y_test\n",
    "      log_density = univ_norm.logpdf(y_test[var])\n",
    "      PRED_DENSITY_MARG_ALL[model, t, var] = log_density"
   ]
  },
  {
   "cell_type": "code",
   "execution_count": 23,
   "metadata": {},
   "outputs": [],
   "source": [
    "\n",
    "# Make dataframe wtih sum and mean of predictive density as the 2 columns\n",
    "joint_density_df = pd.DataFrame({'Mean': PRED_DENSITY_JOINT_ALL.mean(axis=1), \n",
    "                   'Median': np.median(PRED_DENSITY_JOINT_ALL, axis=1),\n",
    "                   '10th': np.percentile(PRED_DENSITY_JOINT_ALL, 10, axis=1),\n",
    "                   '90th': np.percentile(PRED_DENSITY_JOINT_ALL, 90, axis=1)\n",
    "}, index = [0, 1, 2])\n",
    "\n",
    "# Make dataframe wtih sum and mean of predictive density as the 2 columns\n",
    "marginal_density_df = pd.DataFrame()\n",
    "for var in range(3):\n",
    "  marginal_density_df_var = pd.DataFrame({'Mean': PRED_DENSITY_MARG_ALL[:, :, var].mean(axis=1),\n",
    "                        'Median': np.median(PRED_DENSITY_MARG_ALL[:, :, var], axis=1),\n",
    "                        '10th': np.percentile(PRED_DENSITY_MARG_ALL[:, :, var], 10, axis=1),\n",
    "                        '90th': np.percentile(PRED_DENSITY_MARG_ALL[:, :, var], 90, axis=1),\n",
    "                        'Variable': var\n",
    "                        }, index = [0, 1, 2])\n",
    "  \n",
    "  marginal_density_df = pd.concat([marginal_density_df, marginal_density_df_var], axis=0)\n",
    "                        "
   ]
  },
  {
   "cell_type": "code",
   "execution_count": 25,
   "metadata": {},
   "outputs": [],
   "source": [
    "marginal_density_df = marginal_density_df.reset_index()\n",
    "# Rename index column to Model\n",
    "marginal_density_df = marginal_density_df.rename(columns={'index': 'Model'})\n",
    "# Subset model to 0\n",
    "marginal_density_df_0 = marginal_density_df[marginal_density_df['Model'] == 0]"
   ]
  },
  {
   "cell_type": "code",
   "execution_count": 28,
   "metadata": {},
   "outputs": [
    {
     "data": {
      "text/html": [
       "<div>\n",
       "<style scoped>\n",
       "    .dataframe tbody tr th:only-of-type {\n",
       "        vertical-align: middle;\n",
       "    }\n",
       "\n",
       "    .dataframe tbody tr th {\n",
       "        vertical-align: top;\n",
       "    }\n",
       "\n",
       "    .dataframe thead th {\n",
       "        text-align: right;\n",
       "    }\n",
       "</style>\n",
       "<table border=\"1\" class=\"dataframe\">\n",
       "  <thead>\n",
       "    <tr style=\"text-align: right;\">\n",
       "      <th></th>\n",
       "      <th>Model</th>\n",
       "      <th>Mean</th>\n",
       "      <th>Median</th>\n",
       "      <th>10th</th>\n",
       "      <th>90th</th>\n",
       "      <th>Variable</th>\n",
       "    </tr>\n",
       "  </thead>\n",
       "  <tbody>\n",
       "    <tr>\n",
       "      <th>0</th>\n",
       "      <td>0</td>\n",
       "      <td>-86.150353</td>\n",
       "      <td>0.049937</td>\n",
       "      <td>-84.336977</td>\n",
       "      <td>0.767840</td>\n",
       "      <td>0</td>\n",
       "    </tr>\n",
       "    <tr>\n",
       "      <th>3</th>\n",
       "      <td>0</td>\n",
       "      <td>-7.025435</td>\n",
       "      <td>4.075774</td>\n",
       "      <td>-6.646665</td>\n",
       "      <td>4.341950</td>\n",
       "      <td>1</td>\n",
       "    </tr>\n",
       "    <tr>\n",
       "      <th>6</th>\n",
       "      <td>0</td>\n",
       "      <td>-2.048852</td>\n",
       "      <td>4.234570</td>\n",
       "      <td>-0.350714</td>\n",
       "      <td>4.627122</td>\n",
       "      <td>2</td>\n",
       "    </tr>\n",
       "  </tbody>\n",
       "</table>\n",
       "</div>"
      ],
      "text/plain": [
       "   Model       Mean    Median       10th      90th  Variable\n",
       "0      0 -86.150353  0.049937 -84.336977  0.767840         0\n",
       "3      0  -7.025435  4.075774  -6.646665  4.341950         1\n",
       "6      0  -2.048852  4.234570  -0.350714  4.627122         2"
      ]
     },
     "execution_count": 28,
     "metadata": {},
     "output_type": "execute_result"
    }
   ],
   "source": [
    "marginal_density_df_0\n",
    "# (unrate, GDP, inf)"
   ]
  },
  {
   "cell_type": "code",
   "execution_count": 13,
   "metadata": {},
   "outputs": [
    {
     "data": {
      "image/png": "[encoded data removed]",
      "text/plain": [
       "<Figure size 432x288 with 1 Axes>"
      ]
     },
     "metadata": {
      "needs_background": "light"
     },
     "output_type": "display_data"
    }
   ],
   "source": [
    "for var_num in range(PRED_DENSITY_MARG_ALL.shape[2]):\n",
    "  plt.plot(PRED_DENSITY_MARG_ALL[0, :, var_num], label='VARNN')\n",
    "  plt.ylim(-5, 5)"
   ]
  },
  {
   "cell_type": "code",
   "execution_count": null,
   "metadata": {},
   "outputs": [],
   "source": [
    "plt.plot(PRED_DENSITY_MARG_ALL[0, :, 0], label='VARNN')\n",
    "plt.ylim(-5, 5)"
   ]
  },
  {
   "cell_type": "code",
   "execution_count": 20,
   "metadata": {},
   "outputs": [
    {
     "data": {
      "text/plain": [
       "[<matplotlib.lines.Line2D at 0x7f5222d220a0>]"
      ]
     },
     "execution_count": 20,
     "metadata": {},
     "output_type": "execute_result"
    },
    {
     "data": {
      "image/png": "[encoded data removed]",
      "text/plain": [
       "<Figure size 432x288 with 1 Axes>"
      ]
     },
     "metadata": {
      "needs_background": "light"
     },
     "output_type": "display_data"
    }
   ],
   "source": [
    "# Plot Y_test (unrate, GDP, inf)\n",
    "plt.plot(Y_test[:, 2], label='Y_test')"
   ]
  }
 ],
 "metadata": {
  "kernelspec": {
   "display_name": "Python 3.8.10 ('econdl-6MXPf6IA-py3.8')",
   "language": "python",
   "name": "python3"
  },
  "language_info": {
   "codemirror_mode": {
    "name": "ipython",
    "version": 3
   },
   "file_extension": ".py",
   "mimetype": "text/x-python",
   "name": "python",
   "nbconvert_exporter": "python",
   "pygments_lexer": "ipython3",
   "version": "3.8.10"
  },
  "orig_nbformat": 4,
  "vscode": {
   "interpreter": {
    "hash": "fc48c1473faa31984eb85e467140ef435eca5bb754960603cbfe2bb9dc2bdab4"
   }
  }
 },
 "nbformat": 4,
 "nbformat_minor": 2
}
