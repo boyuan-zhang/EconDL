{
 "cells": [
  {
   "cell_type": "code",
   "execution_count": 3,
   "metadata": {},
   "outputs": [
    {
     "name": "stdout",
     "output_type": "stream",
     "text": [
      "[1, 2, 3, 4]\n"
     ]
    }
   ],
   "source": [
    "lst = [[1,2], [3,4]]\n",
    "# Use a list comprehension to unnest this nested list\n",
    "lst_out = [item for sublist in lst for item in sublist]\n",
    "print(lst_out)"
   ]
  },
  {
   "cell_type": "code",
   "execution_count": 4,
   "metadata": {},
   "outputs": [],
   "source": [
    "lst = [[1, 2], [3, 4], [5, 6]]\n",
    "# Write a function transpose(matrix) that returns the transpose of the input matrix, which is represented as a list of lists\n",
    "def transpose(matrix):\n",
    "  return [list(row) for row in zip(*matrix)]"
   ]
  },
  {
   "cell_type": "code",
   "execution_count": 92,
   "metadata": {},
   "outputs": [
    {
     "ename": "TypeError",
     "evalue": "unhashable type: 'list'",
     "output_type": "error",
     "traceback": [
      "\u001b[0;31m---------------------------------------------------------------------------\u001b[0m",
      "\u001b[0;31mTypeError\u001b[0m                                 Traceback (most recent call last)",
      "\u001b[1;32m/mnt/c/users/isaac/OneDrive/Documents/Isaac/2021-2022 Senior/Economic Research PGC/EconDL/cis521_hw1.ipynb Cell 3\u001b[0m in \u001b[0;36m<cell line: 1>\u001b[0;34m()\u001b[0m\n\u001b[0;32m----> <a href='vscode-notebook-cell://wsl%2Bubuntu/mnt/c/users/isaac/OneDrive/Documents/Isaac/2021-2022%20Senior/Economic%20Research%20PGC/EconDL/cis521_hw1.ipynb#W2sdnNjb2RlLXJlbW90ZQ%3D%3D?line=0'>1</a>\u001b[0m points_to_names \u001b[39m=\u001b[39m {[\u001b[39m0\u001b[39m, \u001b[39m0\u001b[39m]: \u001b[39m\"\u001b[39m\u001b[39mhome\u001b[39m\u001b[39m\"\u001b[39m, [\u001b[39m1\u001b[39m, \u001b[39m2\u001b[39m]: \u001b[39m\"\u001b[39m\u001b[39mschool\u001b[39m\u001b[39m\"\u001b[39m, [\u001b[39m-\u001b[39m\u001b[39m1\u001b[39m, \u001b[39m1\u001b[39m]: \u001b[39m\"\u001b[39m\u001b[39mmarket\u001b[39m\u001b[39m\"\u001b[39m}\n",
      "\u001b[0;31mTypeError\u001b[0m: unhashable type: 'list'"
     ]
    }
   ],
   "source": [
    "points_to_names = {[0, 0]: \"home\", [1, 2]: \"school\", [-1, 1]: \"market\"}"
   ]
  },
  {
   "cell_type": "code",
   "execution_count": 5,
   "metadata": {},
   "outputs": [
    {
     "data": {
      "text/plain": [
       "[[1, 3, 5], [2, 4, 6]]"
      ]
     },
     "execution_count": 5,
     "metadata": {},
     "output_type": "execute_result"
    }
   ],
   "source": [
    "transpose(lst)"
   ]
  },
  {
   "cell_type": "code",
   "execution_count": null,
   "metadata": {},
   "outputs": [],
   "source": [
    "string = 'abc'\n",
    "# Function that  that returns a new sequence containing all but the last element of the input sequence\n",
    "def remove_last_element(seq):\n",
    "    return seq[:-1]\n",
    "\n",
    "#Write a function every_other(seq) that returns a new sequence containing every other element of the input sequence, starting with the first\n",
    "def every_other(seq):\n",
    "    return seq[::2]\n"
   ]
  },
  {
   "cell_type": "code",
   "execution_count": 7,
   "metadata": {},
   "outputs": [
    {
     "name": "stdout",
     "output_type": "stream",
     "text": [
      "[[], [1], [1, 2], [1, 2, 3]]\n",
      "[[1, 2, 3], [2, 3], [3], []]\n"
     ]
    }
   ],
   "source": [
    "# The prefixes of a sequence include the empty sequence, the first element, the first two elements, etc., up to and including the full sequence itself. Similarly, the suffixes of a sequence include the empty sequence, the last element, the last two elements, etc., up to and including the full sequence itself. Write a pair of functions prefixes(seq) and suffixes(seq) that yield all prefixes and suffixes of the input sequence.\n",
    "def prefixes(seq):\n",
    "    out = [seq[:i] for i in range(len(seq) + 1)]\n",
    "    for e in out:\n",
    "        yield e\n",
    "\n",
    "def suffixes(seq):\n",
    "    out = [seq[i:] for i in range(len(seq) + 1)]\n",
    "    for e in out:\n",
    "        yield e\n",
    "\n",
    "print(list(prefixes([1, 2, 3])))\n",
    "print(list(suffixes([1, 2, 3])))"
   ]
  },
  {
   "cell_type": "code",
   "execution_count": 25,
   "metadata": {},
   "outputs": [
    {
     "name": "stdout",
     "output_type": "stream",
     "text": [
      "ToMixedCase\n"
     ]
    }
   ],
   "source": [
    "text = \"to_mixed_case\"\n",
    "\n",
    "# get the individual words\n",
    "words = text.split('_')\n",
    "# for each word convert to title case\n",
    "words = [word.title() for word in words]\n",
    "# combine together\n",
    "out = ''.join(words)\n",
    "print(out)"
   ]
  },
  {
   "cell_type": "code",
   "execution_count": 97,
   "metadata": {},
   "outputs": [
    {
     "data": {
      "text/plain": [
       "[[1], [1, 2], [1, 2, 3], [2], [2, 3], [3]]"
      ]
     },
     "execution_count": 97,
     "metadata": {},
     "output_type": "execute_result"
    }
   ],
   "source": [
    "#Write a function slices(seq) that yields all non-empty slices of the input sequence.\n",
    "\n",
    "a = [1, 2, 3]\n",
    "def slices(seq):\n",
    "  slices = []\n",
    "  for start_id in range(0, len(seq)):\n",
    "    for end_id in range(start_id, len(seq)):\n",
    "      slices.append(seq[start_id:end_id+1])\n",
    "  return slices\n",
    "\n",
    "slices(a)\n"
   ]
  },
  {
   "cell_type": "code",
   "execution_count": 112,
   "metadata": {},
   "outputs": [],
   "source": [
    "### Q5: Text Processing\n",
    "\n",
    "# Write a function normalize(text) that returns a normalized version of the input string, in which all words have been converted to lowercase and are separated by a single space. No leading or trailing whitespace should be present in the output.\n",
    "def normalize(text):\n",
    "  words = [e.lower() for e in text.split(' ') if e != '']\n",
    "  out = ' '.join(words)\n",
    "  return out\n",
    "\n",
    "# Write a function no_vowels(text) that removes all vowels from the input string and returns the result. For the purposes of this problem, the letter ‘y’ is not considered to be a vowel.\n",
    "def no_vowels(text):\n",
    "  filtered = [e for e in text if e.lower() not in 'aeiou']\n",
    "  out = ''.join(filtered)\n",
    "  return out\n",
    "\n",
    "# Write a function digits_to_words(text) that extracts all digits from the input string, spells them out as lowercase English words, and returns a new string in which they are each separated by a single space. \n",
    "# If the input string contains no digits, then an empty string should be returned.\n",
    "def digits_to_words(text):\n",
    "  mappings = {\n",
    "  '0': 'zero',\n",
    "  '1': 'one',\n",
    "  '2': 'two',\n",
    "  '3': 'three',\n",
    "  '4': 'four',\n",
    "  '5': 'five',\n",
    "  '6': 'six',\n",
    "  '7': 'seven',\n",
    "  '8': 'eight',\n",
    "  '9': 'nine'\n",
    "}\n",
    "  out = ' '.join([mappings[e] for e in text if e in mappings.keys()])\n",
    "  return out\n",
    "\n",
    "def to_mixed_case(text):\n",
    "  # get the individual words\n",
    "  words = text.split('_')\n",
    "  words = [word for word in words if word != '']\n",
    "  # for each word convert to title case\n",
    "  words_processed = []\n",
    "  for i, word in enumerate(words):\n",
    "    if i == 0:\n",
    "      words_processed.append(word.lower())\n",
    "    else:\n",
    "      word_processed = (word[0].upper() + word[1:].lower()) if len(word) > 1 else word.upper()\n",
    "      words_processed.append(word_processed)\n",
    "  # combine together\n",
    "  out = ''.join(words_processed)\n",
    "  return out"
   ]
  },
  {
   "cell_type": "code",
   "execution_count": 117,
   "metadata": {},
   "outputs": [
    {
     "data": {
      "text/plain": [
       "['', 'exapmle', 'name']"
      ]
     },
     "execution_count": 117,
     "metadata": {},
     "output_type": "execute_result"
    }
   ],
   "source": [
    "'_exapmle_name'.split('_')"
   ]
  },
  {
   "cell_type": "code",
   "execution_count": 116,
   "metadata": {},
   "outputs": [
    {
     "data": {
      "text/plain": [
       "'ExampleName'"
      ]
     },
     "execution_count": 116,
     "metadata": {},
     "output_type": "execute_result"
    }
   ],
   "source": [
    "to_mixed_case(\"_example_name\")"
   ]
  },
  {
   "cell_type": "code",
   "execution_count": 26,
   "metadata": {},
   "outputs": [
    {
     "data": {
      "text/plain": [
       "((2, 1), (1, 0))"
      ]
     },
     "execution_count": 26,
     "metadata": {},
     "output_type": "execute_result"
    }
   ],
   "source": [
    "poly = [(2, 1), (1, 0)]\n",
    "tuple(poly)"
   ]
  },
  {
   "cell_type": "code",
   "execution_count": 39,
   "metadata": {},
   "outputs": [],
   "source": [
    "a = Polynomial([(2,1), (1,0)])\n",
    "b = Polynomial([(1,1), (-2,0)])"
   ]
  },
  {
   "cell_type": "code",
   "execution_count": 40,
   "metadata": {},
   "outputs": [
    {
     "data": {
      "text/plain": [
       "11"
      ]
     },
     "execution_count": 40,
     "metadata": {},
     "output_type": "execute_result"
    }
   ],
   "source": [
    "a(5)"
   ]
  },
  {
   "cell_type": "code",
   "execution_count": 37,
   "metadata": {},
   "outputs": [
    {
     "name": "stdout",
     "output_type": "stream",
     "text": [
      "[(2, 3), (-4, 2), (1, 2), (-2, 1), (3, 1), (-6, 0)]\n"
     ]
    }
   ],
   "source": [
    "a_poly = ((2,2), (1,1), (3,0))\n",
    "b_poly = ((1,1), (-2,0))\n",
    "\n",
    "product = []\n",
    "for a_term in a_poly:\n",
    "  for b_term in b_poly:\n",
    "    product.append((a_term[0]*b_term[0], a_term[1]+b_term[1]))\n",
    "  \n",
    "print(product)\n",
    "    "
   ]
  },
  {
   "cell_type": "code",
   "execution_count": 46,
   "metadata": {},
   "outputs": [
    {
     "data": {
      "text/plain": [
       "[(2, 3), (-3, 2), (1, 1), (-6, 0)]"
      ]
     },
     "execution_count": 46,
     "metadata": {},
     "output_type": "execute_result"
    }
   ],
   "source": [
    "product = [(2, 3), (-4, 2), (1, 2), (-2, 1), (3, 1), (-6, 0)]\n",
    "\n",
    "terms_by_powers = {}\n",
    "# group by common power\n",
    "for (coef, power) in product:\n",
    "  terms_by_powers[power] = terms_by_powers.get(power, 0) + coef\n",
    "\n",
    "out = [(v, k) for k, v in terms_by_powers.items()]\n",
    "out\n",
    "# return"
   ]
  },
  {
   "cell_type": "code",
   "execution_count": 54,
   "metadata": {},
   "outputs": [
    {
     "name": "stdout",
     "output_type": "stream",
     "text": [
      " 2x^2 + x + 3\n"
     ]
    }
   ],
   "source": [
    "a_poly = ((2,2), (1,1), (3,0))\n",
    "out_str_terms = []\n",
    "\n",
    "for i, (coef, power) in enumerate(a_poly):\n",
    "  # handle the sign of the coef (4: magnitude 0 is positive)\n",
    "  if i == 0 and coef >= 0:\n",
    "    sign = ''\n",
    "  elif coef >= 0:\n",
    "    sign = '+'\n",
    "  else:\n",
    "    sign = '-'\n",
    "  # 5: coef w magnitude 1 omitted unless power is 0\n",
    "  coef_str = str(abs(coef)) if abs(coef) != 1 else ''\n",
    "  # 2: power is 0\n",
    "  if power  == 0:\n",
    "    out_str_terms.append(f'{sign} {coef_str}')\n",
    "  elif power == 1: # 3: power is 1\n",
    "    out_str_terms.append(f'{sign} {coef_str}x')\n",
    "  else:\n",
    "    out_str_terms.append(f'{sign} {coef_str}x^{power}')\n",
    "\n",
    "out_str = ' '.join(out_str_terms)\n",
    "print(out_str)"
   ]
  },
  {
   "cell_type": "code",
   "execution_count": 74,
   "metadata": {},
   "outputs": [],
   "source": [
    "# Q6: Polynomials\n",
    "\n",
    "# Create a Polynomial class\n",
    "class Polynomial:\n",
    "\n",
    "  def __init__(self, polynomial):\n",
    "    '''\n",
    "    polynomial: coefficient power pairs\n",
    "    '''\n",
    "    self.polynomial = tuple(polynomial)\n",
    "  \n",
    "  def get_polynomial(self):\n",
    "    return self.polynomial\n",
    "\n",
    "  def __neg__(self):\n",
    "    return Polynomial([(-c, p) for c, p in self.polynomial])\n",
    "  \n",
    "  def __add__(self, other):\n",
    "    return Polynomial((self.polynomial + other.polynomial))\n",
    "\n",
    "  def __sub__(self, other):\n",
    "    return self + (-other)\n",
    "  \n",
    "  def __mul__(self, other):\n",
    "    product = []\n",
    "    for a_term in self.polynomial:\n",
    "      for b_term in other.polynomial:\n",
    "        product.append((a_term[0]*b_term[0], a_term[1]+b_term[1]))\n",
    "    \n",
    "    return Polynomial(product)\n",
    "\n",
    "  def __call__(self, x):\n",
    "    return sum([coef * (x ** power) for coef, power in self.polynomial])\n",
    "\n",
    "  def simplify(self):\n",
    "    terms_by_powers = {}\n",
    "    # group by common power\n",
    "    for (coef, power) in self.polynomial:\n",
    "      terms_by_powers[power] = terms_by_powers.get(power, 0) + coef\n",
    "\n",
    "    simplified = [(v, k) for k, v in terms_by_powers.items() if v != 0]\n",
    "\n",
    "    # Sort simplified by the 2nd element of the tuple in decreasing power\n",
    "    simplified.sort(key=lambda x: x[1], reverse=True)\n",
    "\n",
    "    if len(simplified) == 0:\n",
    "      simplified = [(0,0)]\n",
    "\n",
    "    self.polynomial = tuple(simplified)\n",
    "\n",
    "  def __str__(self):\n",
    "\n",
    "    out_str_terms = []\n",
    "\n",
    "    for i, (coef, power) in enumerate(self.polynomial):\n",
    "      # handle the sign of the coef (4: magnitude 0 is positive)\n",
    "      if i == 0 and coef >= 0:\n",
    "        sign = ''\n",
    "      elif i == 0 and coef < 0:\n",
    "        sign = '-'\n",
    "      elif coef >= 0:\n",
    "        sign = '+ '\n",
    "      else:\n",
    "        sign = '- '\n",
    "      # 5: coef w magnitude 1 omitted unless power is 0\n",
    "      coef_str = str(abs(coef)) if abs(coef) != 1 or power == 0 else ''\n",
    "      # 2: power is 0\n",
    "      if power  == 0:\n",
    "        out_str_terms.append(f'{sign}{coef_str}')\n",
    "      elif power == 1: # 3: power is 1\n",
    "        out_str_terms.append(f'{sign}{coef_str}x')\n",
    "      else:\n",
    "        out_str_terms.append(f'{sign}{coef_str}x^{power}')\n",
    "\n",
    "    out_str = ' '.join(out_str_terms)\n",
    "\n",
    "    return out_str"
   ]
  },
  {
   "cell_type": "code",
   "execution_count": 75,
   "metadata": {},
   "outputs": [
    {
     "name": "stdout",
     "output_type": "stream",
     "text": [
      " 2x + 1\n",
      " 2x - 1\n",
      " 4x^2 + 2x + 2x + 1 + 4x^2 - 2x - 2x + 1 - 4x^2 + 2x - 2x + 1\n",
      " 4x^2 + 3\n"
     ]
    },
    {
     "data": {
      "text/plain": [
       "[(-4, 67),\n",
       " (-3, 39),\n",
       " (-2, 19),\n",
       " (-1, 7),\n",
       " (0, 3),\n",
       " (1, 7),\n",
       " (2, 19),\n",
       " (3, 39),\n",
       " (4, 67)]"
      ]
     },
     "execution_count": 75,
     "metadata": {},
     "output_type": "execute_result"
    }
   ],
   "source": [
    "p, q = Polynomial([(2, 1), (1, 0)]), Polynomial([(2, 1), (-1, 0)])\n",
    "print(p); print(q)\n",
    "r = (p * p) + (q * q) - (p * q); print(r)\n",
    "r.simplify(); print(r)\n",
    "[(x, r(x)) for x in range(-4, 5)]"
   ]
  },
  {
   "cell_type": "code",
   "execution_count": 76,
   "metadata": {},
   "outputs": [],
   "source": [
    "import numpy as np\n",
    "matrix1 = np.array([[1, 2], [3, 4]])\n",
    "matrix2 = np.array([[5, 6, 7], [7, 8, 9], [0, -1, -2]])"
   ]
  },
  {
   "cell_type": "code",
   "execution_count": 85,
   "metadata": {},
   "outputs": [],
   "source": [
    "def sort_array(list_of_matrices):\n",
    "  # Flatten the matrices -> concatenate together to form 1 matrix -> sort (in increasing order) -> reverse\n",
    "  return np.sort(np.concatenate([mat.flatten() for mat in list_of_matrices]))[::-1]"
   ]
  },
  {
   "cell_type": "code",
   "execution_count": 84,
   "metadata": {},
   "outputs": [
    {
     "data": {
      "text/plain": [
       "array([ 9,  8,  7,  7,  6,  5,  4,  3,  2,  1,  0, -1, -2])"
      ]
     },
     "execution_count": 84,
     "metadata": {},
     "output_type": "execute_result"
    }
   ],
   "source": [
    "sort_array([matrix1, matrix2])"
   ]
  },
  {
   "cell_type": "code",
   "execution_count": 88,
   "metadata": {},
   "outputs": [
    {
     "name": "stderr",
     "output_type": "stream",
     "text": [
      "[nltk_data] Downloading package stopwords to /home/isaac/nltk_data...\n",
      "[nltk_data]   Unzipping corpora/stopwords.zip.\n",
      "[nltk_data] Downloading package punkt to /home/isaac/nltk_data...\n",
      "[nltk_data]   Unzipping tokenizers/punkt.zip.\n",
      "[nltk_data] Downloading package averaged_perceptron_tagger to\n",
      "[nltk_data]     /home/isaac/nltk_data...\n",
      "[nltk_data]   Unzipping taggers/averaged_perceptron_tagger.zip.\n"
     ]
    },
    {
     "data": {
      "text/plain": [
       "True"
      ]
     },
     "execution_count": 88,
     "metadata": {},
     "output_type": "execute_result"
    }
   ],
   "source": [
    "import nltk\n",
    "nltk.download('stopwords')\n",
    "nltk.download('punkt')\n",
    "nltk.download('averaged_perceptron_tagger')"
   ]
  },
  {
   "cell_type": "code",
   "execution_count": 89,
   "metadata": {},
   "outputs": [],
   "source": [
    "def POS_tag(sentence):\n",
    "  # convert to lower case\n",
    "  sentence = sentence.lower()\n",
    "  # tokenize\n",
    "  tokens = nltk.word_tokenize(sentence)\n",
    "  # remove stop words and punctuation\n",
    "  tokens = [token for token in tokens if token not in nltk.corpus.stopwords.words('english') and token.isalpha()]\n",
    "  # conduct pos tagging\n",
    "  tagged_tokens = nltk.pos_tag(tokens)\n",
    "  return tagged_tokens"
   ]
  },
  {
   "cell_type": "code",
   "execution_count": 90,
   "metadata": {},
   "outputs": [
    {
     "data": {
      "text/plain": [
       "[('force', 'NN'), ('always', 'RB')]"
      ]
     },
     "execution_count": 90,
     "metadata": {},
     "output_type": "execute_result"
    }
   ],
   "source": [
    "sentence = 'The Force will be with you. Always.'\n",
    "POS_tag(sentence)"
   ]
  }
 ],
 "metadata": {
  "kernelspec": {
   "display_name": "Python 3.8.10 ('econdl-sxkRgAzp-py3.8')",
   "language": "python",
   "name": "python3"
  },
  "language_info": {
   "codemirror_mode": {
    "name": "ipython",
    "version": 3
   },
   "file_extension": ".py",
   "mimetype": "text/x-python",
   "name": "python",
   "nbconvert_exporter": "python",
   "pygments_lexer": "ipython3",
   "version": "3.8.10"
  },
  "orig_nbformat": 4,
  "vscode": {
   "interpreter": {
    "hash": "bd23ab43e05a30f1f54ad96d556d7d432760b94761482740c6dde7316491757c"
   }
  }
 },
 "nbformat": 4,
 "nbformat_minor": 2
}
