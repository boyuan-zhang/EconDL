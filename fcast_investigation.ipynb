{
 "cells": [
  {
   "cell_type": "code",
   "execution_count": 1,
   "metadata": {},
   "outputs": [],
   "source": [
    "import numpy as np\n",
    "import pandas as pd\n",
    "import json"
   ]
  },
  {
   "cell_type": "code",
   "execution_count": 23,
   "metadata": {},
   "outputs": [],
   "source": [
    "# Load the compiled results\n",
    "results_compiled = np.load('24oct_results/multi_fcast_params_0_compiled.npz')['fcast'] # 9 x 4 x 30 x 72 x 1 (8+1 horizons, 4 variables, 30 bootstraps, 72 test obs, 1 reestim)\n",
    "results_reestim_0_compiled = np.load('24oct_results/multi_fcast_params_0_reestim_0_compiled.npz')['fcast'] # 9 x 4 x 30 x 72 x 1\n",
    "results_reestim_1_compiled = np.load('24oct_results/multi_fcast_params_0_reestim_1_compiled.npz')['fcast'] # 9 x 4 x 30 x 72 x 1\n",
    "\n",
    "results_reestim_0_repeat_0 = np.load('24oct_results/multi_fcast_params_0_repeat_0_reestim_0.npz')['fcast'] # 9 x 4 x 30 x 72 x 1\n",
    "results_reestim_0_repeat_1 = np.load('24oct_results/multi_fcast_params_0_repeat_1_reestim_0.npz')['fcast'] # 9 x 4 x 30 x 72 x 1\n",
    "results_reestim_0_repeat_2 = np.load('24oct_results/multi_fcast_params_0_repeat_2_reestim_0.npz')['fcast'] # 9 x 4 x 30 x 72 x 1"
   ]
  },
  {
   "cell_type": "code",
   "execution_count": 49,
   "metadata": {},
   "outputs": [
    {
     "name": "stdout",
     "output_type": "stream",
     "text": [
      "[0.00065674 0.0020223 ]\n",
      "[-0.0172108  -0.00985972]\n",
      "[0.02262741 0.0307448 ]\n",
      "[-0.01228904 -0.00384963]\n",
      "[0.01043734 0.00644751]\n",
      "[0.01892031 0.0084241 ]\n",
      "[0.00457081 0.00558384]\n",
      "[-0.01419976 -0.01782963]\n",
      "[-0.01207076 -0.04353656]\n",
      "[-0.02330807  0.04761661]\n",
      "[-0.09712788 -0.07157999]\n",
      "[0.0731778  0.03695916]\n",
      "[0.04573066 0.01763049]\n",
      "[-0.01447233 -0.02513388]\n",
      "[ 0.00228267 -0.04992762]\n",
      "[0.04312135 0.048194  ]\n",
      "[0.03869878 0.02249835]\n",
      "[0.03547684 0.05693866]\n",
      "[0.03575975 0.02601402]\n",
      "[0.0175801  0.02860197]\n",
      "[0.04264582 0.00399585]\n",
      "[0.00543301 0.05167669]\n",
      "[ 0.02427107 -0.00955675]\n",
      "[0.01033039 0.06563355]\n",
      "[0.02790514 0.00742917]\n",
      "[0.00548289 0.01332395]\n",
      "[0.01281397 0.01714997]\n",
      "[ 0.00558832 -0.00586042]\n",
      "[3.50279135e-05 2.81490216e-02]\n",
      "[0.01261982 0.00481409]\n",
      "[ 0.00478934 -0.00124807]\n",
      "[0.00687664 0.02077674]\n",
      "[0.0732838  0.38412376]\n",
      "[-0.12969449  0.39326689]\n",
      "[0.28212995 0.01232987]\n",
      "[0.04395249 0.02640995]\n"
     ]
    }
   ],
   "source": [
    "for reestim in range(36):\n",
    "  results_reestim_compiled = np.load(f'24oct_results/multi_fcast_params_0_reestim_{reestim}_compiled.npz')['fcast'] # 9 x 4 x 30 x 72 x 1\n",
    "  print(results_reestim_compiled[2, 0, 0, :2, 0])"
   ]
  },
  {
   "cell_type": "code",
   "execution_count": 53,
   "metadata": {},
   "outputs": [
    {
     "data": {
      "text/plain": [
       "array([ 6.56743940e-04,  2.02229557e-03, -1.72107982e-02, -9.85971525e-03,\n",
       "        2.26274078e-02,  3.07448019e-02, -1.22890404e-02, -3.84963043e-03,\n",
       "        1.04373357e-02,  6.44751118e-03,  1.89203082e-02,  8.42409714e-03,\n",
       "        4.57080861e-03,  5.58383538e-03, -1.41997632e-02, -1.78296262e-02,\n",
       "       -1.20707617e-02, -4.35365620e-02, -2.33080664e-02,  4.76166133e-02,\n",
       "       -9.71278754e-02, -7.15799871e-02,  7.31778007e-02,  3.69591629e-02,\n",
       "        4.57306592e-02,  1.76304898e-02, -1.44723305e-02, -2.51338812e-02,\n",
       "        2.28267437e-03, -4.99276187e-02,  4.31213502e-02,  4.81940009e-02,\n",
       "        3.86987780e-02,  2.24983482e-02,  3.54768380e-02,  5.69386570e-02,\n",
       "        3.57597519e-02,  2.60140157e-02,  1.75801037e-02,  2.86019745e-02,\n",
       "        4.26458207e-02,  3.99584736e-03,  5.43301040e-03,  5.16766886e-02,\n",
       "        2.42710663e-02, -9.55675388e-03,  1.03303876e-02,  6.56335454e-02,\n",
       "        2.79051410e-02,  7.42916889e-03,  5.48288976e-03,  1.33239512e-02,\n",
       "        1.28139665e-02,  1.71499715e-02,  5.58831773e-03, -5.86042070e-03,\n",
       "        3.50279135e-05,  2.81490216e-02,  1.26198198e-02,  4.81408650e-03,\n",
       "        4.78934316e-03, -1.24806617e-03,  6.87663809e-03,  2.07767409e-02,\n",
       "        7.32837980e-02,  3.84123762e-01, -1.29694487e-01,  3.93266895e-01,\n",
       "        2.82129950e-01,  1.23298725e-02,  4.39524932e-02,  2.64099540e-02])"
      ]
     },
     "execution_count": 53,
     "metadata": {},
     "output_type": "execute_result"
    }
   ],
   "source": [
    "results_compiled[2, 0, 0, :, 0]"
   ]
  },
  {
   "cell_type": "code",
   "execution_count": 54,
   "metadata": {},
   "outputs": [
    {
     "data": {
      "text/plain": [
       "array([0.00065674, 0.0020223 ,        nan,        nan,        nan,\n",
       "              nan,        nan,        nan,        nan,        nan,\n",
       "              nan,        nan,        nan,        nan,        nan,\n",
       "              nan,        nan,        nan,        nan,        nan,\n",
       "              nan,        nan,        nan,        nan,        nan,\n",
       "              nan,        nan,        nan,        nan,        nan,\n",
       "              nan,        nan,        nan,        nan,        nan,\n",
       "              nan,        nan,        nan,        nan,        nan,\n",
       "              nan,        nan,        nan,        nan,        nan,\n",
       "              nan,        nan,        nan,        nan,        nan,\n",
       "              nan,        nan,        nan,        nan,        nan,\n",
       "              nan,        nan,        nan,        nan,        nan,\n",
       "              nan,        nan,        nan,        nan,        nan,\n",
       "              nan,        nan,        nan,        nan,        nan,\n",
       "              nan,        nan])"
      ]
     },
     "execution_count": 54,
     "metadata": {},
     "output_type": "execute_result"
    }
   ],
   "source": [
    "results_reestim_0_compiled[2, 0, 0, :, 0]"
   ]
  },
  {
   "cell_type": "code",
   "execution_count": 55,
   "metadata": {},
   "outputs": [
    {
     "data": {
      "text/plain": [
       "array([-0.0172108 , -0.00985972,         nan,         nan,         nan,\n",
       "               nan,         nan,         nan,         nan,         nan,\n",
       "               nan,         nan,         nan,         nan,         nan,\n",
       "               nan,         nan,         nan,         nan,         nan,\n",
       "               nan,         nan,         nan,         nan,         nan,\n",
       "               nan,         nan,         nan,         nan,         nan,\n",
       "               nan,         nan,         nan,         nan,         nan,\n",
       "               nan,         nan,         nan,         nan,         nan,\n",
       "               nan,         nan,         nan,         nan,         nan,\n",
       "               nan,         nan,         nan,         nan,         nan,\n",
       "               nan,         nan,         nan,         nan,         nan,\n",
       "               nan,         nan,         nan,         nan,         nan,\n",
       "               nan,         nan,         nan,         nan,         nan,\n",
       "               nan,         nan,         nan,         nan,         nan])"
      ]
     },
     "execution_count": 55,
     "metadata": {},
     "output_type": "execute_result"
    }
   ],
   "source": [
    "results_reestim_1_compiled[2, 0, 0, :, 0]"
   ]
  }
 ],
 "metadata": {
  "kernelspec": {
   "display_name": "Python 3.8.10 ('econdl-6MXPf6IA-py3.8')",
   "language": "python",
   "name": "python3"
  },
  "language_info": {
   "codemirror_mode": {
    "name": "ipython",
    "version": 3
   },
   "file_extension": ".py",
   "mimetype": "text/x-python",
   "name": "python",
   "nbconvert_exporter": "python",
   "pygments_lexer": "ipython3",
   "version": "3.8.10"
  },
  "orig_nbformat": 4,
  "vscode": {
   "interpreter": {
    "hash": "fc48c1473faa31984eb85e467140ef435eca5bb754960603cbfe2bb9dc2bdab4"
   }
  }
 },
 "nbformat": 4,
 "nbformat_minor": 2
}
